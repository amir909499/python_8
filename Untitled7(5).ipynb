{
 "cells": [
  {
   "cell_type": "code",
   "execution_count": 3,
   "id": "6fcaedbc-fdec-4ca0-8a82-f3e9897cf97b",
   "metadata": {},
   "outputs": [
    {
     "name": "stdout",
     "output_type": "stream",
     "text": [
      "[(1, 7), (5, 8), (6, 9)]\n"
     ]
    }
   ],
   "source": [
    "a=[1,5,6]\n",
    "b=[7,8,9]\n",
    "c=zip(a,b)\n",
    "print(list(c))"
   ]
  },
  {
   "cell_type": "code",
   "execution_count": null,
   "id": "3c4a14da-c605-4040-bb10-6da38890a9e3",
   "metadata": {},
   "outputs": [],
   "source": []
  }
 ],
 "metadata": {
  "kernelspec": {
   "display_name": "Python 3 (ipykernel)",
   "language": "python",
   "name": "python3"
  },
  "language_info": {
   "codemirror_mode": {
    "name": "ipython",
    "version": 3
   },
   "file_extension": ".py",
   "mimetype": "text/x-python",
   "name": "python",
   "nbconvert_exporter": "python",
   "pygments_lexer": "ipython3",
   "version": "3.8.1"
  }
 },
 "nbformat": 4,
 "nbformat_minor": 5
}
