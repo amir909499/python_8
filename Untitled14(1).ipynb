{
 "cells": [
  {
   "cell_type": "code",
   "execution_count": 1,
   "id": "216224f6-95a2-4378-8467-b947cdfbb535",
   "metadata": {},
   "outputs": [
    {
     "name": "stdout",
     "output_type": "stream",
     "text": [
      "['a', 'b', 'c']\n",
      "['a', 'b']\n",
      "['a']\n",
      "[]\n"
     ]
    }
   ],
   "source": [
    "a=['a','b','c','d']\n",
    "for i in a[:]:\n",
    "    a.pop()\n",
    "    print(a)"
   ]
  },
  {
   "cell_type": "code",
   "execution_count": 2,
   "id": "39328b3b-4e17-47e7-a311-1697b5bbb4f6",
   "metadata": {},
   "outputs": [
    {
     "name": "stdout",
     "output_type": "stream",
     "text": [
      "['b', 'c', 'd']\n",
      "['c', 'd']\n",
      "['d']\n",
      "[]\n"
     ]
    }
   ],
   "source": [
    "a=['a','b','c','d']\n",
    "for i in a[:]:\n",
    "    del a[0]\n",
    "    print(a)"
   ]
  },
  {
   "cell_type": "code",
   "execution_count": 3,
   "id": "4fd68045-b8b6-45e6-868a-c28911ea61b2",
   "metadata": {},
   "outputs": [
    {
     "name": "stdout",
     "output_type": "stream",
     "text": [
      "['b', 'c', 'd']\n",
      "['c', 'd']\n",
      "['d']\n",
      "[]\n"
     ]
    }
   ],
   "source": [
    "a=['a','b','c','d']\n",
    "for i in a[:]:\n",
    "    a.remove(i)\n",
    "    print(a)"
   ]
  },
  {
   "cell_type": "code",
   "execution_count": null,
   "id": "e79dff39-3927-449a-a506-8f729e5782e9",
   "metadata": {},
   "outputs": [],
   "source": []
  }
 ],
 "metadata": {
  "kernelspec": {
   "display_name": "Python 3 (ipykernel)",
   "language": "python",
   "name": "python3"
  },
  "language_info": {
   "codemirror_mode": {
    "name": "ipython",
    "version": 3
   },
   "file_extension": ".py",
   "mimetype": "text/x-python",
   "name": "python",
   "nbconvert_exporter": "python",
   "pygments_lexer": "ipython3",
   "version": "3.8.1"
  }
 },
 "nbformat": 4,
 "nbformat_minor": 5
}
