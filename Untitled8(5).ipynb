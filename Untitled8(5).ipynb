{
 "cells": [
  {
   "cell_type": "code",
   "execution_count": 18,
   "id": "7e971e7a-9c61-4d23-8751-f310e0cb41db",
   "metadata": {},
   "outputs": [
    {
     "name": "stdout",
     "output_type": "stream",
     "text": [
      "m y\n",
      "na me\n",
      "i s\n",
      "am ir\n"
     ]
    }
   ],
   "source": [
    "x=['m','na','i','am']\n",
    "y=['y','me','s','ir']\n",
    "c=zip(x,y)\n",
    "for i,d in zip(x,y):\n",
    "    print(i,d)\n",
    "\n"
   ]
  },
  {
   "cell_type": "code",
   "execution_count": null,
   "id": "a531eeff-74b4-4623-b173-0346446b5d78",
   "metadata": {},
   "outputs": [],
   "source": []
  }
 ],
 "metadata": {
  "kernelspec": {
   "display_name": "Python 3 (ipykernel)",
   "language": "python",
   "name": "python3"
  },
  "language_info": {
   "codemirror_mode": {
    "name": "ipython",
    "version": 3
   },
   "file_extension": ".py",
   "mimetype": "text/x-python",
   "name": "python",
   "nbconvert_exporter": "python",
   "pygments_lexer": "ipython3",
   "version": "3.8.1"
  }
 },
 "nbformat": 4,
 "nbformat_minor": 5
}
