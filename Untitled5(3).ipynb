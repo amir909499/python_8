{
 "cells": [
  {
   "cell_type": "code",
   "execution_count": 1,
   "id": "56711f61-94d5-4604-94cd-ff3332511cc7",
   "metadata": {},
   "outputs": [
    {
     "name": "stdout",
     "output_type": "stream",
     "text": [
      "['20', 'False', 'True', 'amir', 'raf']\n"
     ]
    }
   ],
   "source": [
    "a=[\"amir\",\"20\",\"True\",\"raf\",\"False\"]\n",
    "print(sorted(a))"
   ]
  },
  {
   "cell_type": "code",
   "execution_count": null,
   "id": "c98db3b2-ace5-43fd-aef3-0d3c2178beb3",
   "metadata": {},
   "outputs": [],
   "source": []
  }
 ],
 "metadata": {
  "kernelspec": {
   "display_name": "Python 3 (ipykernel)",
   "language": "python",
   "name": "python3"
  },
  "language_info": {
   "codemirror_mode": {
    "name": "ipython",
    "version": 3
   },
   "file_extension": ".py",
   "mimetype": "text/x-python",
   "name": "python",
   "nbconvert_exporter": "python",
   "pygments_lexer": "ipython3",
   "version": "3.8.1"
  }
 },
 "nbformat": 4,
 "nbformat_minor": 5
}
