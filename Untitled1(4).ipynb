{
 "cells": [
  {
   "cell_type": "code",
   "execution_count": 1,
   "id": "b1bac1b7-a6d4-4252-97e1-ba28df9c6e0f",
   "metadata": {},
   "outputs": [],
   "source": [
    "def a(txt):\n",
    "    up=[]\n",
    "    low=[]\n",
    "    c=[]\n",
    "    for a in txt:\n",
    "        if (a.isalpha()):\n",
    "            if(a.isupper()):\n",
    "                up.append(a)\n",
    "            else:\n",
    "                low.append(a)\n",
    "        else:\n",
    "            c.append(a)\n",
    "\n",
    "    print(up)\n",
    "    print(low)\n",
    "    print(c)"
   ]
  },
  {
   "cell_type": "code",
   "execution_count": 2,
   "id": "5b7fda64-40e2-45ce-bfe0-250651649e73",
   "metadata": {},
   "outputs": [
    {
     "name": "stdout",
     "output_type": "stream",
     "text": [
      "['A', 'B', 'C']\n",
      "['d', 'f', 'g']\n",
      "[',', ',', ',', ',', ',', ',', '!', ',', '@', ',', '#', ',', '^']\n"
     ]
    }
   ],
   "source": [
    "a(\"A,B,C,d,f,g,!,@,#,^\")"
   ]
  },
  {
   "cell_type": "code",
   "execution_count": null,
   "id": "a7a9f9f0-c223-4cef-a832-f08497b87a8e",
   "metadata": {},
   "outputs": [],
   "source": []
  }
 ],
 "metadata": {
  "kernelspec": {
   "display_name": "Python 3 (ipykernel)",
   "language": "python",
   "name": "python3"
  },
  "language_info": {
   "codemirror_mode": {
    "name": "ipython",
    "version": 3
   },
   "file_extension": ".py",
   "mimetype": "text/x-python",
   "name": "python",
   "nbconvert_exporter": "python",
   "pygments_lexer": "ipython3",
   "version": "3.8.1"
  }
 },
 "nbformat": 4,
 "nbformat_minor": 5
}
